{
 "cells": [
  {
   "cell_type": "markdown",
   "id": "e0e5c597",
   "metadata": {},
   "source": [
    "# Programming Assignment 3\n",
    "## Tess Anderson\n",
    "### Version 1\n",
    "#### CS-150 Fall 2022"
   ]
  },
  {
   "cell_type": "code",
   "execution_count": 10,
   "id": "9af4232f",
   "metadata": {},
   "outputs": [
    {
     "name": "stdout",
     "output_type": "stream",
     "text": [
      "0\n",
      "1\n",
      "2\n",
      "3\n",
      "4\n",
      "5\n",
      "6 *\n",
      "7\n",
      "8\n",
      "9 *\n",
      "10\n",
      "11\n",
      "12 *\n",
      "13\n",
      "14\n",
      "15 *\n",
      "16\n",
      "17\n",
      "18 *\n",
      "19\n",
      "20\n",
      "21 *\n",
      "22\n",
      "23\n",
      "24 *\n",
      "25\n",
      "26\n",
      "27 *\n",
      "28\n",
      "29\n",
      "30 *\n",
      "31\n",
      "32\n",
      "33 *\n",
      "34\n",
      "35\n",
      "36 *\n",
      "37\n",
      "38\n",
      "39 *\n",
      "40\n",
      "41\n",
      "42 *\n",
      "43\n",
      "44\n",
      "45 *\n",
      "46\n",
      "47\n",
      "48 *\n",
      "49\n",
      "50\n",
      "51 *\n",
      "52\n",
      "53\n",
      "54 *\n",
      "55\n",
      "56\n",
      "57 *\n",
      "58\n",
      "59\n",
      "60 *\n",
      "61\n",
      "62\n",
      "63 *\n",
      "64\n",
      "65\n",
      "66 *\n",
      "67\n",
      "68\n",
      "69 *\n",
      "70\n",
      "71\n",
      "72 *\n",
      "73\n",
      "74\n",
      "75 *\n",
      "76\n",
      "77\n",
      "78 *\n",
      "79\n",
      "80\n",
      "81 *\n",
      "82\n",
      "83\n",
      "84 *\n",
      "85\n",
      "86\n",
      "87 *\n",
      "88\n",
      "89\n",
      "90 *\n",
      "91\n",
      "92\n",
      "93 *\n",
      "94\n",
      "95\n",
      "96 *\n",
      "97\n",
      "98\n",
      "99 *\n"
     ]
    }
   ],
   "source": [
    "for number in range(0,100):\n",
    "    if number==0 or number==3:\n",
    "        print(number)\n",
    "    elif number%3==0:\n",
    "        print(number,'*')\n",
    "    else:\n",
    "        print(number)"
   ]
  },
  {
   "cell_type": "code",
   "execution_count": 17,
   "id": "bd4b4a0e",
   "metadata": {},
   "outputs": [
    {
     "name": "stdout",
     "output_type": "stream",
     "text": [
      "What is the subject's age? 70\n",
      "Senior Citizen\n"
     ]
    }
   ],
   "source": [
    "age=int(input(\"What is the subject's age? \"))\n",
    "if age>=0 and age<18:\n",
    "    print(\"Minor\")\n",
    "elif age>=18 and age<65:\n",
    "    print(\"Adult\")\n",
    "else:\n",
    "    print(\"Senior Citizen\")"
   ]
  },
  {
   "cell_type": "code",
   "execution_count": 22,
   "id": "79c47409",
   "metadata": {},
   "outputs": [
    {
     "name": "stdout",
     "output_type": "stream",
     "text": [
      "65 : Senior Citizen\n",
      "78 : Senior Citizen\n",
      "34 : Adult\n",
      "56 : Adult\n",
      "12 : Minor\n",
      "9 : Minor\n",
      "43 : Adult\n",
      "67 : Senior Citizen\n"
     ]
    }
   ],
   "source": [
    "age_list=[65,78,34,56,12,9,43,67]\n",
    "for age in age_list:\n",
    "    if age>=0 and age<18:\n",
    "        print(age,\":\",\"Minor\")\n",
    "    elif age>=18 and age<65:\n",
    "        print(age,\":\",\"Adult\")\n",
    "    else:\n",
    "        print(age,\":\",\"Senior Citizen\")"
   ]
  }
 ],
 "metadata": {
  "kernelspec": {
   "display_name": "Python 3 (ipykernel)",
   "language": "python",
   "name": "python3"
  },
  "language_info": {
   "codemirror_mode": {
    "name": "ipython",
    "version": 3
   },
   "file_extension": ".py",
   "mimetype": "text/x-python",
   "name": "python",
   "nbconvert_exporter": "python",
   "pygments_lexer": "ipython3",
   "version": "3.9.12"
  }
 },
 "nbformat": 4,
 "nbformat_minor": 5
}
